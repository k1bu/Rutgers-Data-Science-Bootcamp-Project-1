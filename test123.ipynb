{
 "cells": [
  {
   "cell_type": "code",
   "execution_count": 1,
   "metadata": {},
   "outputs": [
    {
     "data": {
      "text/html": [
       "<div>\n",
       "<style scoped>\n",
       "    .dataframe tbody tr th:only-of-type {\n",
       "        vertical-align: middle;\n",
       "    }\n",
       "\n",
       "    .dataframe tbody tr th {\n",
       "        vertical-align: top;\n",
       "    }\n",
       "\n",
       "    .dataframe thead th {\n",
       "        text-align: right;\n",
       "    }\n",
       "</style>\n",
       "<table border=\"1\" class=\"dataframe\">\n",
       "  <thead>\n",
       "    <tr style=\"text-align: right;\">\n",
       "      <th></th>\n",
       "      <th>UsageClass</th>\n",
       "      <th>CheckoutType</th>\n",
       "      <th>MaterialType</th>\n",
       "      <th>CheckoutYear</th>\n",
       "      <th>CheckoutMonth</th>\n",
       "      <th>Checkouts</th>\n",
       "      <th>Title</th>\n",
       "      <th>Creator</th>\n",
       "      <th>Subjects</th>\n",
       "      <th>Publisher</th>\n",
       "      <th>PublicationYear</th>\n",
       "    </tr>\n",
       "  </thead>\n",
       "  <tbody>\n",
       "    <tr>\n",
       "      <th>0</th>\n",
       "      <td>Physical</td>\n",
       "      <td>Horizon</td>\n",
       "      <td>BOOK</td>\n",
       "      <td>2018</td>\n",
       "      <td>8</td>\n",
       "      <td>2</td>\n",
       "      <td>I am not Little Red Riding Hood / written by A...</td>\n",
       "      <td>Lecis, Alessandro</td>\n",
       "      <td>Girls Juvenile fiction, Snow Juvenile fiction,...</td>\n",
       "      <td>Sky Pony Press,</td>\n",
       "      <td>[2013]</td>\n",
       "    </tr>\n",
       "    <tr>\n",
       "      <th>1</th>\n",
       "      <td>Physical</td>\n",
       "      <td>Horizon</td>\n",
       "      <td>BOOK</td>\n",
       "      <td>2018</td>\n",
       "      <td>8</td>\n",
       "      <td>1</td>\n",
       "      <td>Cut from the same cloth / Chloe Taylor</td>\n",
       "      <td>Taylor, Chloe</td>\n",
       "      <td>Families Juvenile fiction, Fathers and daughte...</td>\n",
       "      <td>Simon Spotlight,</td>\n",
       "      <td>2016.</td>\n",
       "    </tr>\n",
       "    <tr>\n",
       "      <th>2</th>\n",
       "      <td>Physical</td>\n",
       "      <td>Horizon</td>\n",
       "      <td>BOOK</td>\n",
       "      <td>2018</td>\n",
       "      <td>8</td>\n",
       "      <td>2</td>\n",
       "      <td>The card catalog : books, cards, and literary ...</td>\n",
       "      <td>NaN</td>\n",
       "      <td>Library of Congress History, Library of Congre...</td>\n",
       "      <td>Chronicle Books,</td>\n",
       "      <td>[2017]</td>\n",
       "    </tr>\n",
       "    <tr>\n",
       "      <th>3</th>\n",
       "      <td>Digital</td>\n",
       "      <td>OverDrive</td>\n",
       "      <td>EBOOK</td>\n",
       "      <td>2018</td>\n",
       "      <td>8</td>\n",
       "      <td>3</td>\n",
       "      <td>Lady Be Good</td>\n",
       "      <td>Susan Elizabeth Phillips</td>\n",
       "      <td>Fiction, Humor (Fiction), Romance</td>\n",
       "      <td>HarperCollins Publishers Inc.</td>\n",
       "      <td>2010</td>\n",
       "    </tr>\n",
       "    <tr>\n",
       "      <th>4</th>\n",
       "      <td>Digital</td>\n",
       "      <td>OverDrive</td>\n",
       "      <td>AUDIOBOOK</td>\n",
       "      <td>2018</td>\n",
       "      <td>8</td>\n",
       "      <td>2</td>\n",
       "      <td>The House (Unabridged)</td>\n",
       "      <td>Danielle Steel</td>\n",
       "      <td>Fiction, Romance</td>\n",
       "      <td>Books on Tape</td>\n",
       "      <td>2008</td>\n",
       "    </tr>\n",
       "  </tbody>\n",
       "</table>\n",
       "</div>"
      ],
      "text/plain": [
       "  UsageClass CheckoutType MaterialType  CheckoutYear  CheckoutMonth  \\\n",
       "0   Physical      Horizon         BOOK          2018              8   \n",
       "1   Physical      Horizon         BOOK          2018              8   \n",
       "2   Physical      Horizon         BOOK          2018              8   \n",
       "3    Digital    OverDrive        EBOOK          2018              8   \n",
       "4    Digital    OverDrive    AUDIOBOOK          2018              8   \n",
       "\n",
       "   Checkouts                                              Title  \\\n",
       "0          2  I am not Little Red Riding Hood / written by A...   \n",
       "1          1             Cut from the same cloth / Chloe Taylor   \n",
       "2          2  The card catalog : books, cards, and literary ...   \n",
       "3          3                                       Lady Be Good   \n",
       "4          2                             The House (Unabridged)   \n",
       "\n",
       "                    Creator  \\\n",
       "0         Lecis, Alessandro   \n",
       "1             Taylor, Chloe   \n",
       "2                       NaN   \n",
       "3  Susan Elizabeth Phillips   \n",
       "4            Danielle Steel   \n",
       "\n",
       "                                            Subjects  \\\n",
       "0  Girls Juvenile fiction, Snow Juvenile fiction,...   \n",
       "1  Families Juvenile fiction, Fathers and daughte...   \n",
       "2  Library of Congress History, Library of Congre...   \n",
       "3                  Fiction, Humor (Fiction), Romance   \n",
       "4                                   Fiction, Romance   \n",
       "\n",
       "                       Publisher PublicationYear  \n",
       "0                Sky Pony Press,          [2013]  \n",
       "1               Simon Spotlight,           2016.  \n",
       "2               Chronicle Books,          [2017]  \n",
       "3  HarperCollins Publishers Inc.            2010  \n",
       "4                  Books on Tape            2008  "
      ]
     },
     "execution_count": 1,
     "metadata": {},
     "output_type": "execute_result"
    }
   ],
   "source": [
    "import os\n",
    "import pandas as pd \n",
    "\n",
    "file = \"checkouts_5yr.csv\"\n",
    "test = pd.read_csv(file)\n",
    "test.head()"
   ]
  },
  {
   "cell_type": "code",
   "execution_count": 6,
   "metadata": {},
   "outputs": [
    {
     "data": {
      "text/plain": [
       "UsageClass         8847445\n",
       "CheckoutType       8847445\n",
       "MaterialType       8847445\n",
       "CheckoutYear       8847445\n",
       "CheckoutMonth      8847445\n",
       "Checkouts          8847445\n",
       "Title              8847445\n",
       "Creator            8521184\n",
       "Subjects           8762808\n",
       "Publisher          8789054\n",
       "PublicationYear    8788601\n",
       "dtype: int64"
      ]
     },
     "execution_count": 6,
     "metadata": {},
     "output_type": "execute_result"
    }
   ],
   "source": [
    "test[\"MaterialType\"].value_counts()\n",
    "test.count()"
   ]
  },
  {
   "cell_type": "code",
   "execution_count": 4,
   "metadata": {},
   "outputs": [
    {
     "data": {
      "text/plain": [
       "UsageClass         5621955\n",
       "CheckoutType       5621955\n",
       "MaterialType       5621955\n",
       "CheckoutYear       5621955\n",
       "CheckoutMonth      5621955\n",
       "Checkouts          5621955\n",
       "Title              5621955\n",
       "Creator            5415483\n",
       "Subjects           5568461\n",
       "Publisher          5585667\n",
       "PublicationYear    5585441\n",
       "dtype: int64"
      ]
     },
     "execution_count": 4,
     "metadata": {},
     "output_type": "execute_result"
    }
   ],
   "source": [
    "ez = test.drop_duplicates()\n",
    "ez.count()"
   ]
  },
  {
   "cell_type": "code",
   "execution_count": 7,
   "metadata": {},
   "outputs": [],
   "source": [
    "ez.to_csv(\"checkouts_5yr.csv.gz\", compression=\"gzip\", index=False)"
   ]
  },
  {
   "cell_type": "code",
   "execution_count": null,
   "metadata": {},
   "outputs": [],
   "source": []
  }
 ],
 "metadata": {
  "kernelspec": {
   "display_name": "Python 3",
   "language": "python",
   "name": "python3"
  },
  "language_info": {
   "codemirror_mode": {
    "name": "ipython",
    "version": 3
   },
   "file_extension": ".py",
   "mimetype": "text/x-python",
   "name": "python",
   "nbconvert_exporter": "python",
   "pygments_lexer": "ipython3",
   "version": "3.7.3"
  }
 },
 "nbformat": 4,
 "nbformat_minor": 2
}
