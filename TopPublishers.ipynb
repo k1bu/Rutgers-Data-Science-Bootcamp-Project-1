{
 "cells": [
  {
   "cell_type": "code",
   "execution_count": 102,
   "metadata": {},
   "outputs": [],
   "source": [
    "import os\n",
    "import csv\n",
    "import pandas as pd \n",
    "import matplotlib.pyplot as plt\n",
    "\n",
    "\n",
    "file = \"checkouts_5yr.csv\"\n",
    "\n",
    "publisher_df = pd.read_csv(file)\n",
    "\n",
    "#publishers[\"MaterialType\"].value_counts()"
   ]
  },
  {
   "cell_type": "code",
   "execution_count": 103,
   "metadata": {},
   "outputs": [
    {
     "data": {
      "text/plain": [
       "Random House, Inc.               378375\n",
       "Penguin Group (USA), Inc.        270692\n",
       "HarperCollins Publishers Inc.    237505\n",
       "Books on Tape                    147939\n",
       "Blackstone Audio, Inc.           137253\n",
       "Macmillan Publishers             124034\n",
       "Simon & Schuster, Inc.           105002\n",
       "Hachette Digital, Inc.            95845\n",
       "Tantor Media, Inc                 48401\n",
       "Thorndike Press,                  41173\n",
       "Name: Publisher, dtype: int64"
      ]
     },
     "execution_count": 103,
     "metadata": {},
     "output_type": "execute_result"
    }
   ],
   "source": [
    "# Standardizing the data\n",
    "\n",
    "publisher_std = publisher_df.replace({\"Random House,\": \"Random House, Inc.\"})\n",
    "publisher_count = publisher_std[\"Publisher\"].value_counts()\n",
    "\n",
    "\n",
    "publisher_count.head(10)\n"
   ]
  },
  {
   "cell_type": "code",
   "execution_count": 104,
   "metadata": {
    "scrolled": true
   },
   "outputs": [],
   "source": [
    "# Sum checkouts by publisher\n",
    "\n",
    "publisher_d2 = publisher_std.groupby(['Publisher'])\n",
    "funcs = {'Checkouts':'sum'}\n",
    "publisher_d2 = publisher_d2.agg(funcs)\n",
    "\n",
    "\n",
    "\n"
   ]
  },
  {
   "cell_type": "code",
   "execution_count": 105,
   "metadata": {},
   "outputs": [
    {
     "data": {
      "text/html": [
       "<div>\n",
       "<style scoped>\n",
       "    .dataframe tbody tr th:only-of-type {\n",
       "        vertical-align: middle;\n",
       "    }\n",
       "\n",
       "    .dataframe tbody tr th {\n",
       "        vertical-align: top;\n",
       "    }\n",
       "\n",
       "    .dataframe thead th {\n",
       "        text-align: right;\n",
       "    }\n",
       "</style>\n",
       "<table border=\"1\" class=\"dataframe\">\n",
       "  <thead>\n",
       "    <tr style=\"text-align: right;\">\n",
       "      <th></th>\n",
       "      <th>Checkouts</th>\n",
       "    </tr>\n",
       "    <tr>\n",
       "      <th>Publisher</th>\n",
       "      <th></th>\n",
       "    </tr>\n",
       "  </thead>\n",
       "  <tbody>\n",
       "    <tr>\n",
       "      <th>Random House, Inc.</th>\n",
       "      <td>1557597</td>\n",
       "    </tr>\n",
       "    <tr>\n",
       "      <th>Penguin Group (USA), Inc.</th>\n",
       "      <td>739810</td>\n",
       "    </tr>\n",
       "    <tr>\n",
       "      <th>HarperCollins Publishers Inc.</th>\n",
       "      <td>717631</td>\n",
       "    </tr>\n",
       "    <tr>\n",
       "      <th>Books on Tape</th>\n",
       "      <td>606737</td>\n",
       "    </tr>\n",
       "    <tr>\n",
       "      <th>Blackstone Audio, Inc.</th>\n",
       "      <td>398396</td>\n",
       "    </tr>\n",
       "    <tr>\n",
       "      <th>Hachette Digital, Inc.</th>\n",
       "      <td>360612</td>\n",
       "    </tr>\n",
       "    <tr>\n",
       "      <th>Macmillan Publishers</th>\n",
       "      <td>348317</td>\n",
       "    </tr>\n",
       "    <tr>\n",
       "      <th>Simon &amp; Schuster, Inc.</th>\n",
       "      <td>297136</td>\n",
       "    </tr>\n",
       "    <tr>\n",
       "      <th>Alfred A. Knopf,</th>\n",
       "      <td>180564</td>\n",
       "    </tr>\n",
       "    <tr>\n",
       "      <th>Candlewick Press,</th>\n",
       "      <td>174411</td>\n",
       "    </tr>\n",
       "  </tbody>\n",
       "</table>\n",
       "</div>"
      ],
      "text/plain": [
       "                               Checkouts\n",
       "Publisher                               \n",
       "Random House, Inc.               1557597\n",
       "Penguin Group (USA), Inc.         739810\n",
       "HarperCollins Publishers Inc.     717631\n",
       "Books on Tape                     606737\n",
       "Blackstone Audio, Inc.            398396\n",
       "Hachette Digital, Inc.            360612\n",
       "Macmillan Publishers              348317\n",
       "Simon & Schuster, Inc.            297136\n",
       "Alfred A. Knopf,                  180564\n",
       "Candlewick Press,                 174411"
      ]
     },
     "execution_count": 105,
     "metadata": {},
     "output_type": "execute_result"
    }
   ],
   "source": [
    "# List of top 10 publisher by checkouts\n",
    "\n",
    "short_publisher = publisher_d2.sort_values(\"Checkouts\",ascending = False)\n",
    "short_publisher\n",
    "\n",
    "Top_10 = short_publisher.head(10)\n",
    "Top_10"
   ]
  },
  {
   "cell_type": "code",
   "execution_count": 106,
   "metadata": {},
   "outputs": [
    {
     "name": "stdout",
     "output_type": "stream",
     "text": [
      "                               Checkouts\n",
      "Publisher                               \n",
      "Random House, Inc.               1557597\n",
      "Penguin Group (USA), Inc.         739810\n",
      "HarperCollins Publishers Inc.     717631\n",
      "Books on Tape                     606737\n",
      "Blackstone Audio, Inc.            398396\n",
      "Hachette Digital, Inc.            360612\n",
      "Macmillan Publishers              348317\n",
      "Simon & Schuster, Inc.            297136\n",
      "Alfred A. Knopf,                  180564\n",
      "Candlewick Press,                 174411\n"
     ]
    },
    {
     "data": {
      "image/png": "[encoded data removed]",
      "text/plain": [
       "<Figure size 432x288 with 1 Axes>"
      ]
     },
     "metadata": {
      "needs_background": "light"
     },
     "output_type": "display_data"
    }
   ],
   "source": [
    "# Making a bar graph\n",
    "\n",
    "final_chart = Top_10.head(10)\n",
    "\n",
    "\n",
    "final_chart.plot(kind='bar', title='Top 10 Overall Publishers')\n",
    "\n",
    "plt.xlabel('Publishers')\n",
    "plt.ylabel('Overall Checkouts')\n",
    "\n",
    "print(final_chart)"
   ]
  },
  {
   "cell_type": "code",
   "execution_count": null,
   "metadata": {},
   "outputs": [],
   "source": []
  },
  {
   "cell_type": "code",
   "execution_count": null,
   "metadata": {},
   "outputs": [],
   "source": []
  }
 ],
 "metadata": {
  "kernelspec": {
   "display_name": "Python 3",
   "language": "python",
   "name": "python3"
  },
  "language_info": {
   "codemirror_mode": {
    "name": "ipython",
    "version": 3
   },
   "file_extension": ".py",
   "mimetype": "text/x-python",
   "name": "python",
   "nbconvert_exporter": "python",
   "pygments_lexer": "ipython3",
   "version": "3.7.3"
  }
 },
 "nbformat": 4,
 "nbformat_minor": 2
}
