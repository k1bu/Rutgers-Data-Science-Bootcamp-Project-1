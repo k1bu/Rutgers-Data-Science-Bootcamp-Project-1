{
 "cells": [
  {
   "cell_type": "code",
   "execution_count": 3,
   "metadata": {},
   "outputs": [],
   "source": [
    "import os\n",
    "import csv\n",
    "import pandas as pd \n",
    "\n",
    "file = \"checkouts_5yr.csv\"\n",
    "\n",
    "publishers = pd.read_csv(file)\n",
    "\n"
   ]
  },
  {
   "cell_type": "code",
   "execution_count": 4,
   "metadata": {},
   "outputs": [
    {
     "data": {
      "text/plain": [
       "BOOK         3458902\n",
       "EBOOK        1560880\n",
       "AUDIOBOOK     602173\n",
       "Name: MaterialType, dtype: int64"
      ]
     },
     "execution_count": 4,
     "metadata": {},
     "output_type": "execute_result"
    }
   ],
   "source": [
    "publishers[\"MaterialType\"].value_counts()"
   ]
  },
  {
   "cell_type": "code",
   "execution_count": 5,
   "metadata": {},
   "outputs": [],
   "source": [
    "publisher = publishers.groupby('Publisher')"
   ]
  },
  {
   "cell_type": "code",
   "execution_count": 6,
   "metadata": {},
   "outputs": [
    {
     "data": {
      "text/plain": [
       "Random House, Inc.                                                                                                             330147\n",
       "Penguin Group (USA), Inc.                                                                                                      270692\n",
       "HarperCollins Publishers Inc.                                                                                                  237505\n",
       "Books on Tape                                                                                                                  147939\n",
       "Blackstone Audio, Inc.                                                                                                         137253\n",
       "Macmillan Publishers                                                                                                           124034\n",
       "Simon & Schuster, Inc.                                                                                                         105002\n",
       "Hachette Digital, Inc.                                                                                                          95845\n",
       "Tantor Media, Inc                                                                                                               48401\n",
       "Random House,                                                                                                                   48228\n",
       "Thorndike Press,                                                                                                                41173\n",
       "Harlequin Enterprises, Ltd.                                                                                                     39063\n",
       "Candlewick Press,                                                                                                               33425\n",
       "Macmillan Audio                                                                                                                 30665\n",
       "Alfred A. Knopf,                                                                                                                30318\n",
       "Lightning Source Inc                                                                                                            29216\n",
       "Scholastic, Inc. (US)                                                                                                           29038\n",
       "Houghton Mifflin Harcourt Trade and Reference                                                                                   28082\n",
       "Harper,                                                                                                                         27928\n",
       "Simon & Schuster,                                                                                                               24934\n",
       "Viking,                                                                                                                         24877\n",
       "Scholastic,                                                                                                                     24317\n",
       "Houghton Mifflin Harcourt,                                                                                                      24104\n",
       "DC Comics,                                                                                                                      23290\n",
       "Open Road Integrated Media                                                                                                      22928\n",
       "St. Martin's Press,                                                                                                             21491\n",
       "Simon & Schuster Books for Young Readers,                                                                                       21295\n",
       "Oxford University Press,                                                                                                        21241\n",
       "Sourcebooks                                                                                                                     21238\n",
       "Viz Media,                                                                                                                      20995\n",
       "                                                                                                                                ...  \n",
       "Exeter Books ; In association with Phoebus,                                                                                         1\n",
       "Two Dot,                                                                                                                            1\n",
       "Carroll & Graf Pubs.,                                                                                                               1\n",
       "Hansen Outdoors Publishing,                                                                                                         1\n",
       "Nueva Imagen,                                                                                                                       1\n",
       "Culver Crest Publications,                                                                                                          1\n",
       "Harvard Common Press ; Distributed by National Book Network,                                                                        1\n",
       "McGinnis & Marx,                                                                                                                    1\n",
       "What? School,                                                                                                                       1\n",
       "National Book Co.,                                                                                                                  1\n",
       "G.K. Hall and Co.,                                                                                                                  1\n",
       "Loras College Press,                                                                                                                1\n",
       "Ilbit,                                                                                                                              1\n",
       "Denison,                                                                                                                            1\n",
       "Alaska Educational Program for Intercultural Communication, Center for Northern Educational Research, University of Alaska,         1\n",
       "Broadman & Holman Pub.,                                                                                                             1\n",
       "Izdatelʹsko-torgovyĭ Dom \"Grand\" : Fair-Press,                                                                                      1\n",
       "Committee on Public Information,                                                                                                    1\n",
       "Hall Pub. Co.                                                                                                                       1\n",
       "Departamento del Interior de los EE.UU., Servicio Geológico de los EE.UU. ; USGS Information Services [distributor],                1\n",
       "Knife World Publications,                                                                                                           1\n",
       "W.W. Norton.,                                                                                                                       1\n",
       "Ch'amgŭl Ŏrini,                                                                                                                     1\n",
       "Ineri Foundation,                                                                                                                   1\n",
       "ABDO Pub. Co. ,                                                                                                                     1\n",
       "Washington State University, College of Agriculture and Home Economics Research Center,                                             1\n",
       "Third Man Books, LLC,                                                                                                               1\n",
       "K. Paul, Trench & Co.,                                                                                                              1\n",
       "National Gallery of Art in association with Lund Humphries,                                                                         1\n",
       "Shinchōsha                                                                                                                          1\n",
       "Name: Publisher, Length: 43399, dtype: int64"
      ]
     },
     "execution_count": 6,
     "metadata": {},
     "output_type": "execute_result"
    }
   ],
   "source": [
    "publishers[\"Publisher\"].value_counts()"
   ]
  },
  {
   "cell_type": "code",
   "execution_count": 7,
   "metadata": {},
   "outputs": [],
   "source": [
    "#publisher_chart= publisher.plot(kind=\"bar\", title = \"Most Checked Out Publishers\")"
   ]
  },
  {
   "cell_type": "code",
   "execution_count": 18,
   "metadata": {},
   "outputs": [
    {
     "data": {
      "text/plain": [
       "Random House, Inc.                                                                                                             378375\n",
       "Penguin Group (USA), Inc.                                                                                                      270692\n",
       "HarperCollins Publishers Inc.                                                                                                  237505\n",
       "Books on Tape                                                                                                                  147939\n",
       "Blackstone Audio, Inc.                                                                                                         137253\n",
       "Macmillan Publishers                                                                                                           124034\n",
       "Simon & Schuster, Inc.                                                                                                         105002\n",
       "Hachette Digital, Inc.                                                                                                          95845\n",
       "Tantor Media, Inc                                                                                                               48401\n",
       "Thorndike Press,                                                                                                                41173\n",
       "Harlequin Enterprises, Ltd.                                                                                                     39063\n",
       "Candlewick Press,                                                                                                               33425\n",
       "Macmillan Audio                                                                                                                 30665\n",
       "Alfred A. Knopf,                                                                                                                30318\n",
       "Lightning Source Inc                                                                                                            29216\n",
       "Scholastic, Inc. (US)                                                                                                           29038\n",
       "Houghton Mifflin Harcourt Trade and Reference                                                                                   28082\n",
       "Harper,                                                                                                                         27928\n",
       "Simon & Schuster,                                                                                                               24934\n",
       "Viking,                                                                                                                         24877\n",
       "Scholastic,                                                                                                                     24317\n",
       "Houghton Mifflin Harcourt,                                                                                                      24104\n",
       "DC Comics,                                                                                                                      23290\n",
       "Open Road Integrated Media                                                                                                      22928\n",
       "St. Martin's Press,                                                                                                             21491\n",
       "Simon & Schuster Books for Young Readers,                                                                                       21295\n",
       "Oxford University Press,                                                                                                        21241\n",
       "Sourcebooks                                                                                                                     21238\n",
       "Viz Media,                                                                                                                      20995\n",
       "Little, Brown and Company,                                                                                                      20017\n",
       "                                                                                                                                ...  \n",
       "Two Dot,                                                                                                                            1\n",
       "Hansen Outdoors Publishing,                                                                                                         1\n",
       "Carroll & Graf Pubs.,                                                                                                               1\n",
       "Harvard Common Press ; Distributed by National Book Network,                                                                        1\n",
       "McGinnis & Marx,                                                                                                                    1\n",
       "Nueva Imagen,                                                                                                                       1\n",
       "Culver Crest Publications,                                                                                                          1\n",
       "What? School,                                                                                                                       1\n",
       "National Book Co.,                                                                                                                  1\n",
       "Congress of the U.S., Congressional Budget Office : For sale by the U.S. G.P.O., Supt. of Docs,                                     1\n",
       "G.K. Hall and Co.,                                                                                                                  1\n",
       "Loras College Press,                                                                                                                1\n",
       "Available Press,                                                                                                                    1\n",
       "Denison,                                                                                                                            1\n",
       "Alaska Educational Program for Intercultural Communication, Center for Northern Educational Research, University of Alaska,         1\n",
       "Committee on Public Information,                                                                                                    1\n",
       "Hall Pub. Co.                                                                                                                       1\n",
       "Izdatelʹsko-torgovyĭ Dom \"Grand\" : Fair-Press,                                                                                      1\n",
       "Departamento del Interior de los EE.UU., Servicio Geológico de los EE.UU. ; USGS Information Services [distributor],                1\n",
       "Knife World Publications,                                                                                                           1\n",
       "Ineri Foundation,                                                                                                                   1\n",
       "Ch'amgŭl Ŏrini,                                                                                                                     1\n",
       "W.W. Norton.,                                                                                                                       1\n",
       "ABDO Pub. Co. ,                                                                                                                     1\n",
       "Washington State University, College of Agriculture and Home Economics Research Center,                                             1\n",
       "Third Man Books, LLC,                                                                                                               1\n",
       "National Gallery of Art in association with Lund Humphries,                                                                         1\n",
       "K. Paul, Trench & Co.,                                                                                                              1\n",
       "Ilbit,                                                                                                                              1\n",
       "Barse & Hopkins,                                                                                                                    1\n",
       "Name: Publisher, Length: 43398, dtype: int64"
      ]
     },
     "execution_count": 18,
     "metadata": {},
     "output_type": "execute_result"
    }
   ],
   "source": [
    "pub_standardize = publishers.replace(\n",
    "   {\"Random House,\": \"Random House, Inc.\"})\n",
    "pub_standardize[\"Publisher\"].value_counts()"
   ]
  },
  {
   "cell_type": "code",
   "execution_count": null,
   "metadata": {},
   "outputs": [],
   "source": []
  },
  {
   "cell_type": "code",
   "execution_count": 28,
   "metadata": {},
   "outputs": [
    {
     "name": "stdout",
     "output_type": "stream",
     "text": [
      "Random House, Inc.               378375\n",
      "Penguin Group (USA), Inc.        270692\n",
      "HarperCollins Publishers Inc.    237505\n",
      "Books on Tape                    147939\n",
      "Blackstone Audio, Inc.           137253\n",
      "Macmillan Publishers             124034\n",
      "Simon & Schuster, Inc.           105002\n",
      "Hachette Digital, Inc.            95845\n",
      "Tantor Media, Inc                 48401\n",
      "Thorndike Press,                  41173\n",
      "Name: Publisher, dtype: int64\n"
     ]
    },
    {
     "data": {
      "image/png": "[encoded data removed]",
      "text/plain": [
       "<Figure size 432x288 with 1 Axes>"
      ]
     },
     "metadata": {
      "needs_background": "light"
     },
     "output_type": "display_data"
    }
   ],
   "source": [
    "publisher_top10 = pub_standardize[\"Publisher\"].value_counts()\n",
    "publisher_top = publisher_top10.head(10)\n",
    "\n",
    "#Use below to only add rest of the publishers that are not part of top 10\n",
    "#if len(publisher_top10) > 10:\n",
    "    #publisher_top['remaining {0} items'.format(len(publisher_top10) - 10)] = sum(publisher_top10[10:])\n",
    "    \n",
    "    \n",
    "publisher_top.plot(kind='bar')\n",
    "\n",
    "print(publisher_top)"
   ]
  },
  {
   "cell_type": "code",
   "execution_count": null,
   "metadata": {},
   "outputs": [],
   "source": []
  }
 ],
 "metadata": {
  "kernelspec": {
   "display_name": "Python 3",
   "language": "python",
   "name": "python3"
  },
  "language_info": {
   "codemirror_mode": {
    "name": "ipython",
    "version": 3
   },
   "file_extension": ".py",
   "mimetype": "text/x-python",
   "name": "python",
   "nbconvert_exporter": "python",
   "pygments_lexer": "ipython3",
   "version": "3.7.3"
  }
 },
 "nbformat": 4,
 "nbformat_minor": 2
}
