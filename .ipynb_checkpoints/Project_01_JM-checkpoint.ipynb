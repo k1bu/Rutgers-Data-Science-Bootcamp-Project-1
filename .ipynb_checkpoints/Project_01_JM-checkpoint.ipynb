{
 "cells": [
  {
   "cell_type": "code",
   "execution_count": 1,
   "metadata": {},
   "outputs": [
    {
     "ename": "FileNotFoundError",
     "evalue": "[Errno 2] File b'checkouts_5yr.csv' does not exist: b'checkouts_5yr.csv'",
     "output_type": "error",
     "traceback": [
      "\u001b[1;31m---------------------------------------------------------------------------\u001b[0m",
      "\u001b[1;31mFileNotFoundError\u001b[0m                         Traceback (most recent call last)",
      "\u001b[1;32m<ipython-input-1-936cdcda02fe>\u001b[0m in \u001b[0;36m<module>\u001b[1;34m\u001b[0m\n\u001b[0;32m      5\u001b[0m \u001b[0mfile\u001b[0m \u001b[1;33m=\u001b[0m \u001b[1;34m\"checkouts_5yr.csv\"\u001b[0m\u001b[1;33m\u001b[0m\u001b[1;33m\u001b[0m\u001b[0m\n\u001b[0;32m      6\u001b[0m \u001b[1;33m\u001b[0m\u001b[0m\n\u001b[1;32m----> 7\u001b[1;33m \u001b[0mcheckouts\u001b[0m \u001b[1;33m=\u001b[0m \u001b[0mpd\u001b[0m\u001b[1;33m.\u001b[0m\u001b[0mread_csv\u001b[0m\u001b[1;33m(\u001b[0m\u001b[0mfile\u001b[0m\u001b[1;33m)\u001b[0m\u001b[1;33m\u001b[0m\u001b[1;33m\u001b[0m\u001b[0m\n\u001b[0m",
      "\u001b[1;32m~\\Anaconda3\\envs\\PythonData\\lib\\site-packages\\pandas\\io\\parsers.py\u001b[0m in \u001b[0;36mparser_f\u001b[1;34m(filepath_or_buffer, sep, delimiter, header, names, index_col, usecols, squeeze, prefix, mangle_dupe_cols, dtype, engine, converters, true_values, false_values, skipinitialspace, skiprows, skipfooter, nrows, na_values, keep_default_na, na_filter, verbose, skip_blank_lines, parse_dates, infer_datetime_format, keep_date_col, date_parser, dayfirst, iterator, chunksize, compression, thousands, decimal, lineterminator, quotechar, quoting, doublequote, escapechar, comment, encoding, dialect, tupleize_cols, error_bad_lines, warn_bad_lines, delim_whitespace, low_memory, memory_map, float_precision)\u001b[0m\n\u001b[0;32m    700\u001b[0m                     skip_blank_lines=skip_blank_lines)\n\u001b[0;32m    701\u001b[0m \u001b[1;33m\u001b[0m\u001b[0m\n\u001b[1;32m--> 702\u001b[1;33m         \u001b[1;32mreturn\u001b[0m \u001b[0m_read\u001b[0m\u001b[1;33m(\u001b[0m\u001b[0mfilepath_or_buffer\u001b[0m\u001b[1;33m,\u001b[0m \u001b[0mkwds\u001b[0m\u001b[1;33m)\u001b[0m\u001b[1;33m\u001b[0m\u001b[1;33m\u001b[0m\u001b[0m\n\u001b[0m\u001b[0;32m    703\u001b[0m \u001b[1;33m\u001b[0m\u001b[0m\n\u001b[0;32m    704\u001b[0m     \u001b[0mparser_f\u001b[0m\u001b[1;33m.\u001b[0m\u001b[0m__name__\u001b[0m \u001b[1;33m=\u001b[0m \u001b[0mname\u001b[0m\u001b[1;33m\u001b[0m\u001b[1;33m\u001b[0m\u001b[0m\n",
      "\u001b[1;32m~\\Anaconda3\\envs\\PythonData\\lib\\site-packages\\pandas\\io\\parsers.py\u001b[0m in \u001b[0;36m_read\u001b[1;34m(filepath_or_buffer, kwds)\u001b[0m\n\u001b[0;32m    427\u001b[0m \u001b[1;33m\u001b[0m\u001b[0m\n\u001b[0;32m    428\u001b[0m     \u001b[1;31m# Create the parser.\u001b[0m\u001b[1;33m\u001b[0m\u001b[1;33m\u001b[0m\u001b[1;33m\u001b[0m\u001b[0m\n\u001b[1;32m--> 429\u001b[1;33m     \u001b[0mparser\u001b[0m \u001b[1;33m=\u001b[0m \u001b[0mTextFileReader\u001b[0m\u001b[1;33m(\u001b[0m\u001b[0mfilepath_or_buffer\u001b[0m\u001b[1;33m,\u001b[0m \u001b[1;33m**\u001b[0m\u001b[0mkwds\u001b[0m\u001b[1;33m)\u001b[0m\u001b[1;33m\u001b[0m\u001b[1;33m\u001b[0m\u001b[0m\n\u001b[0m\u001b[0;32m    430\u001b[0m \u001b[1;33m\u001b[0m\u001b[0m\n\u001b[0;32m    431\u001b[0m     \u001b[1;32mif\u001b[0m \u001b[0mchunksize\u001b[0m \u001b[1;32mor\u001b[0m \u001b[0miterator\u001b[0m\u001b[1;33m:\u001b[0m\u001b[1;33m\u001b[0m\u001b[1;33m\u001b[0m\u001b[0m\n",
      "\u001b[1;32m~\\Anaconda3\\envs\\PythonData\\lib\\site-packages\\pandas\\io\\parsers.py\u001b[0m in \u001b[0;36m__init__\u001b[1;34m(self, f, engine, **kwds)\u001b[0m\n\u001b[0;32m    893\u001b[0m             \u001b[0mself\u001b[0m\u001b[1;33m.\u001b[0m\u001b[0moptions\u001b[0m\u001b[1;33m[\u001b[0m\u001b[1;34m'has_index_names'\u001b[0m\u001b[1;33m]\u001b[0m \u001b[1;33m=\u001b[0m \u001b[0mkwds\u001b[0m\u001b[1;33m[\u001b[0m\u001b[1;34m'has_index_names'\u001b[0m\u001b[1;33m]\u001b[0m\u001b[1;33m\u001b[0m\u001b[1;33m\u001b[0m\u001b[0m\n\u001b[0;32m    894\u001b[0m \u001b[1;33m\u001b[0m\u001b[0m\n\u001b[1;32m--> 895\u001b[1;33m         \u001b[0mself\u001b[0m\u001b[1;33m.\u001b[0m\u001b[0m_make_engine\u001b[0m\u001b[1;33m(\u001b[0m\u001b[0mself\u001b[0m\u001b[1;33m.\u001b[0m\u001b[0mengine\u001b[0m\u001b[1;33m)\u001b[0m\u001b[1;33m\u001b[0m\u001b[1;33m\u001b[0m\u001b[0m\n\u001b[0m\u001b[0;32m    896\u001b[0m \u001b[1;33m\u001b[0m\u001b[0m\n\u001b[0;32m    897\u001b[0m     \u001b[1;32mdef\u001b[0m \u001b[0mclose\u001b[0m\u001b[1;33m(\u001b[0m\u001b[0mself\u001b[0m\u001b[1;33m)\u001b[0m\u001b[1;33m:\u001b[0m\u001b[1;33m\u001b[0m\u001b[1;33m\u001b[0m\u001b[0m\n",
      "\u001b[1;32m~\\Anaconda3\\envs\\PythonData\\lib\\site-packages\\pandas\\io\\parsers.py\u001b[0m in \u001b[0;36m_make_engine\u001b[1;34m(self, engine)\u001b[0m\n\u001b[0;32m   1120\u001b[0m     \u001b[1;32mdef\u001b[0m \u001b[0m_make_engine\u001b[0m\u001b[1;33m(\u001b[0m\u001b[0mself\u001b[0m\u001b[1;33m,\u001b[0m \u001b[0mengine\u001b[0m\u001b[1;33m=\u001b[0m\u001b[1;34m'c'\u001b[0m\u001b[1;33m)\u001b[0m\u001b[1;33m:\u001b[0m\u001b[1;33m\u001b[0m\u001b[1;33m\u001b[0m\u001b[0m\n\u001b[0;32m   1121\u001b[0m         \u001b[1;32mif\u001b[0m \u001b[0mengine\u001b[0m \u001b[1;33m==\u001b[0m \u001b[1;34m'c'\u001b[0m\u001b[1;33m:\u001b[0m\u001b[1;33m\u001b[0m\u001b[1;33m\u001b[0m\u001b[0m\n\u001b[1;32m-> 1122\u001b[1;33m             \u001b[0mself\u001b[0m\u001b[1;33m.\u001b[0m\u001b[0m_engine\u001b[0m \u001b[1;33m=\u001b[0m \u001b[0mCParserWrapper\u001b[0m\u001b[1;33m(\u001b[0m\u001b[0mself\u001b[0m\u001b[1;33m.\u001b[0m\u001b[0mf\u001b[0m\u001b[1;33m,\u001b[0m \u001b[1;33m**\u001b[0m\u001b[0mself\u001b[0m\u001b[1;33m.\u001b[0m\u001b[0moptions\u001b[0m\u001b[1;33m)\u001b[0m\u001b[1;33m\u001b[0m\u001b[1;33m\u001b[0m\u001b[0m\n\u001b[0m\u001b[0;32m   1123\u001b[0m         \u001b[1;32melse\u001b[0m\u001b[1;33m:\u001b[0m\u001b[1;33m\u001b[0m\u001b[1;33m\u001b[0m\u001b[0m\n\u001b[0;32m   1124\u001b[0m             \u001b[1;32mif\u001b[0m \u001b[0mengine\u001b[0m \u001b[1;33m==\u001b[0m \u001b[1;34m'python'\u001b[0m\u001b[1;33m:\u001b[0m\u001b[1;33m\u001b[0m\u001b[1;33m\u001b[0m\u001b[0m\n",
      "\u001b[1;32m~\\Anaconda3\\envs\\PythonData\\lib\\site-packages\\pandas\\io\\parsers.py\u001b[0m in \u001b[0;36m__init__\u001b[1;34m(self, src, **kwds)\u001b[0m\n\u001b[0;32m   1851\u001b[0m         \u001b[0mkwds\u001b[0m\u001b[1;33m[\u001b[0m\u001b[1;34m'usecols'\u001b[0m\u001b[1;33m]\u001b[0m \u001b[1;33m=\u001b[0m \u001b[0mself\u001b[0m\u001b[1;33m.\u001b[0m\u001b[0musecols\u001b[0m\u001b[1;33m\u001b[0m\u001b[1;33m\u001b[0m\u001b[0m\n\u001b[0;32m   1852\u001b[0m \u001b[1;33m\u001b[0m\u001b[0m\n\u001b[1;32m-> 1853\u001b[1;33m         \u001b[0mself\u001b[0m\u001b[1;33m.\u001b[0m\u001b[0m_reader\u001b[0m \u001b[1;33m=\u001b[0m \u001b[0mparsers\u001b[0m\u001b[1;33m.\u001b[0m\u001b[0mTextReader\u001b[0m\u001b[1;33m(\u001b[0m\u001b[0msrc\u001b[0m\u001b[1;33m,\u001b[0m \u001b[1;33m**\u001b[0m\u001b[0mkwds\u001b[0m\u001b[1;33m)\u001b[0m\u001b[1;33m\u001b[0m\u001b[1;33m\u001b[0m\u001b[0m\n\u001b[0m\u001b[0;32m   1854\u001b[0m         \u001b[0mself\u001b[0m\u001b[1;33m.\u001b[0m\u001b[0munnamed_cols\u001b[0m \u001b[1;33m=\u001b[0m \u001b[0mself\u001b[0m\u001b[1;33m.\u001b[0m\u001b[0m_reader\u001b[0m\u001b[1;33m.\u001b[0m\u001b[0munnamed_cols\u001b[0m\u001b[1;33m\u001b[0m\u001b[1;33m\u001b[0m\u001b[0m\n\u001b[0;32m   1855\u001b[0m \u001b[1;33m\u001b[0m\u001b[0m\n",
      "\u001b[1;32mpandas\\_libs\\parsers.pyx\u001b[0m in \u001b[0;36mpandas._libs.parsers.TextReader.__cinit__\u001b[1;34m()\u001b[0m\n",
      "\u001b[1;32mpandas\\_libs\\parsers.pyx\u001b[0m in \u001b[0;36mpandas._libs.parsers.TextReader._setup_parser_source\u001b[1;34m()\u001b[0m\n",
      "\u001b[1;31mFileNotFoundError\u001b[0m: [Errno 2] File b'checkouts_5yr.csv' does not exist: b'checkouts_5yr.csv'"
     ]
    }
   ],
   "source": [
    "import pandas as pd\n",
    "import matplotlib.pyplot as plt\n",
    "import numpy as np\n",
    "\n",
    "file = \"checkouts_5yr.csv\"\n",
    "\n",
    "checkouts = pd.read_csv(file)"
   ]
  },
  {
   "cell_type": "code",
   "execution_count": null,
   "metadata": {},
   "outputs": [],
   "source": [
    "checkouts[\"MaterialType\"].value_counts()\n",
    "\n",
    "#checkouts.head()"
   ]
  },
  {
   "cell_type": "code",
   "execution_count": null,
   "metadata": {},
   "outputs": [],
   "source": [
    "checkouts[\"MaterialType\"].value_counts()\n",
    "\n",
    "#checkouts.head()\n",
    "\n",
    "#checkouts_sum = checkouts[\"Checkouts\"].sum()\n",
    "#checkouts_sum\n",
    "\n",
    "#Group By Material Type\n",
    "gb_MatType = checkouts.groupby(['MaterialType','CheckoutYear'])\n",
    "funcs = {'Checkouts':'sum'}\n",
    "MatType_agg = gb_MatType.agg(funcs)\n",
    "\n",
    "MatType_agg\n",
    "\n",
    "#MatType_agg.columns\n",
    "#Verify the sum of checkouts in the agg equal original. \n",
    "#MatTyp_agg_sum = MatType_agg[\"Checkouts\"].sum()\n",
    "#MatTyp_agg_sum\n"
   ]
  },
  {
   "cell_type": "code",
   "execution_count": null,
   "metadata": {
    "scrolled": true
   },
   "outputs": [],
   "source": [
    "MatTypes = {\"MaterialType\": checkouts.MaterialType.unique()}\n",
    "df_MatTypes = pd.DataFrame(MatTypes, columns =[\"MaterialType\"])\n",
    "df_MatTypes['key'] = 0\n",
    "print(df_MatTypes)\n",
    "\n",
    "CoYears = {\"CheckoutYear\": checkouts.CheckoutYear.unique()}\n",
    "df_CoYears = pd.DataFrame(CoYears, columns =[\"CheckoutYear\"])\n",
    "df_CoYears['key'] = 0\n",
    "print(df_CoYears)\n",
    "\n",
    "merge_MatTypes_CoYears = pd.merge(df_MatTypes, df_CoYears, on = 'key', how=\"outer\")\n",
    "merge_MatTypes_CoYears\n",
    "print(merge_MatTypes_CoYears)\n",
    "\n",
    "merged_MatTypebyCoYear = pd.merge(merge_MatTypes_CoYears[['MaterialType','CheckoutYear']], MatType_agg, how =\"left\", on=['MaterialType','CheckoutYear'])\n",
    "merged_MatTypebyCoYear"
   ]
  },
  {
   "cell_type": "code",
   "execution_count": null,
   "metadata": {},
   "outputs": [],
   "source": [
    "#y_2015 = merged_MatTypebyCoYear.loc[merged_MatTypebyCoYear['CheckoutYear'] == '2015'].groupby(\"MaterialType\",\"CheckoutYear\")['Checkouts']\n",
    "#print(y_2015)\n",
    "\n",
    "#pivot_MatTypebyCOYear = merged_MatTypebyCoYear.pivot_table('Checkouts','MaterialType','CheckoutYear')\n",
    "#print(pivot_MatTypebyCOYear)\n",
    "\n",
    "y_2015= merged_MatTypebyCoYear.loc[merged_MatTypebyCoYear['CheckoutYear'] ==2015].groupby('MaterialType')['Checkouts'].max()\n",
    "y_2016= merged_MatTypebyCoYear.loc[merged_MatTypebyCoYear['CheckoutYear'] ==2016].groupby('MaterialType')['Checkouts'].max()\n",
    "y_2017= merged_MatTypebyCoYear.loc[merged_MatTypebyCoYear['CheckoutYear'] ==2017].groupby('MaterialType')['Checkouts'].max()\n",
    "y_2018= merged_MatTypebyCoYear.loc[merged_MatTypebyCoYear['CheckoutYear'] ==2018].groupby('MaterialType')['Checkouts'].max()\n",
    "y_2019= merged_MatTypebyCoYear.loc[merged_MatTypebyCoYear['CheckoutYear'] ==2019].groupby('MaterialType')['Checkouts'].max()\n",
    "\n",
    "\n",
    "df_MatTypebyYears = pd.DataFrame({\n",
    "    \"2015\": y_2015\n",
    "    , \"2016\": y_2016\n",
    "    , \"2017\": y_2017\n",
    "    , \"2018\": y_2018\n",
    "    , \"2019\": y_2019\n",
    "})\n",
    "df_MatTypebyYears\n",
    "\n",
    "merged2_MatTypebyCoYear = pd.merge(df_MatTypes[['MaterialType']], df_MatTypebyYears, how =\"left\", on=['MaterialType'])\n",
    "merged2_MatTypebyCoYear"
   ]
  },
  {
   "cell_type": "code",
   "execution_count": null,
   "metadata": {},
   "outputs": [],
   "source": [
    "#list columns\n",
    "list(merged2_MatTypebyCoYear.columns.values)\n",
    "\n",
    "#set the index\n",
    "merged2_MatTypebyCoYear = merged2_MatTypebyCoYear.set_index('MaterialType')"
   ]
  },
  {
   "cell_type": "code",
   "execution_count": null,
   "metadata": {},
   "outputs": [],
   "source": [
    "#create AudioBook plot\n",
    "Audiobook, = plt.plot([\"2015\",\"2016\",\"2017\",\"2018\"], merged2_MatTypebyCoYear.loc['AUDIOBOOK',[\"2015\",\"2016\",\"2017\",\"2018\"]]\n",
    "                , color = \"green\", label = merged2_MatTypebyCoYear.loc['AUDIOBOOK'])\n",
    "\n",
    "Ebook, = plt.plot([\"2015\",\"2016\",\"2017\",\"2018\"], merged2_MatTypebyCoYear.loc['EBOOK',[\"2015\",\"2016\",\"2017\",\"2018\"]]\n",
    "                , color = \"red\", label = merged2_MatTypebyCoYear.loc['EBOOK'])\n",
    "\n",
    "Book, = plt.plot([\"2015\",\"2016\",\"2017\",\"2018\"], merged2_MatTypebyCoYear.loc['BOOK',[\"2015\",\"2016\",\"2017\",\"2018\"]]\n",
    "                , color = \"blue\", label = merged2_MatTypebyCoYear.loc['BOOK'])\n",
    "\n",
    "plt.show()"
   ]
  },
  {
   "cell_type": "code",
   "execution_count": null,
   "metadata": {},
   "outputs": [],
   "source": [
    "(merged2_MatTypebyCoYear.loc['AUDIOBOOK',[\"2015\",\"2016\",\"2017\",\"2018\"]]).values"
   ]
  },
  {
   "cell_type": "code",
   "execution_count": null,
   "metadata": {},
   "outputs": [],
   "source": [
    "plt.figure(figsize=(12,10))\n",
    "\n",
    "N = 4\n",
    "ab = merged2_MatTypebyCoYear.loc['AUDIOBOOK',[\"2015\",\"2016\",\"2017\",\"2018\"]]\n",
    "eb = merged2_MatTypebyCoYear.loc['EBOOK',[\"2015\",\"2016\",\"2017\",\"2018\"]]\n",
    "b = merged2_MatTypebyCoYear.loc['BOOK',[\"2015\",\"2016\",\"2017\",\"2018\"]]\n",
    "\n",
    "ind = np.arange(N)\n",
    "width = 0.40\n",
    "\n",
    "p1 = plt.bar(ind, ab, width, color='g')\n",
    "p2 = plt.bar(ind, eb, width, color='r', bottom=ab)\n",
    "p3 = plt.bar(ind, b, width, color='b', bottom=ab+eb)\n",
    "\n",
    "plt.ylabel('Checkouts')\n",
    "plt.xlabel('Years')\n",
    "plt.title('Checkouts by Material Type and Year')\n",
    "plt.xticks(ind, (\"2015\", \"2016\", \"2017\", \"2018\"))\n",
    "plt.legend((p1[0], p2[0], p3[0]), (\"Audio Book\",\"E-Book\", \"Book\"))\n",
    "\n",
    "\n",
    "plt.style.use('ggplot')\n",
    "\n",
    "plt.savefig('CheckoutsbyMaterialTypebyYear.png')\n",
    "\n",
    "plt.show()"
   ]
  },
  {
   "cell_type": "code",
   "execution_count": null,
   "metadata": {},
   "outputs": [],
   "source": []
  }
 ],
 "metadata": {
  "kernelspec": {
   "display_name": "Python 3",
   "language": "python",
   "name": "python3"
  }
 },
 "nbformat": 4,
 "nbformat_minor": 2
}
